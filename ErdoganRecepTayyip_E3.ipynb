{
 "cells": [
  {
   "cell_type": "markdown",
   "metadata": {},
   "source": [
    "# Exercise 3\n",
    "## Recep Tayyip Erdoğan - 20170808039"
   ]
  },
  {
   "cell_type": "markdown",
   "metadata": {},
   "source": [
    "# File I/O"
   ]
  },
  {
   "cell_type": "markdown",
   "metadata": {},
   "source": [
    "## Exercise 7.1"
   ]
  },
  {
   "cell_type": "code",
   "execution_count": 10,
   "metadata": {},
   "outputs": [
    {
     "name": "stdout",
     "output_type": "stream",
     "text": [
      "Appended line 1\n",
      "\n",
      "Appended line 2\n",
      "\n",
      "Appended line 3\n",
      "\n",
      "Appended line 4\n",
      "\n",
      "Appended line 5\n",
      "\n",
      "Appended line 6\n",
      "\n",
      "Appended line 7\n",
      "\n",
      "Appended line 8\n",
      "\n",
      "Appended line 9\n",
      "\n",
      "Appended line 10\n",
      "\n",
      "Appended line 11\n",
      "\n",
      "Appended line 12\n",
      "\n",
      "Appended line 13\n",
      "\n",
      "Appended line 14\n",
      "\n",
      "Appended line 15\n",
      "\n",
      "Appended line 16\n",
      "\n",
      "Appended line 17\n",
      "\n",
      "Appended line 18\n",
      "\n",
      "Appended line 19\n",
      "\n",
      "Appended line 20\n",
      "\n",
      "Appended line 21\n",
      "\n",
      "Appended line 22\n",
      "\n",
      "Appended line 23\n",
      "\n",
      "Appended line 24\n",
      "\n",
      "Appended line 25\n",
      "\n",
      "Appended line 26\n",
      "\n",
      "Appended line 27\n",
      "\n",
      "Appended line 28\n",
      "\n",
      "Appended line 29\n",
      "\n",
      "Appended line 30\n",
      "\n",
      "\n"
     ]
    }
   ],
   "source": [
    "def main():\n",
    "    for i in range(30):\n",
    "        f = open(\"demofile.txt\",\"a\")\n",
    "        f = f.write(\"Appended line %d\\r\\n\" % (i+1))\n",
    "    f = open(\"demofile.txt\",\"r\")\n",
    "    print(f.read())\n",
    "    f.close()\n",
    "\n",
    "\n",
    "\n",
    "if __name__ == \"__main__\":\n",
    "    main()"
   ]
  },
  {
   "cell_type": "markdown",
   "metadata": {},
   "source": [
    "## Exercise 7.2"
   ]
  },
  {
   "cell_type": "code",
   "execution_count": 24,
   "metadata": {},
   "outputs": [
    {
     "name": "stdout",
     "output_type": "stream",
     "text": [
      "[('', 39709), ('the', 2111), ('I', 2089), ('and', 1708), ('to', 1586), ('of', 1544), ('a', 1172), ('my', 1159), ('in', 1029), ('you', 947), ('that', 894), ('is', 851), ('not', 729), ('And', 668), ('with', 636), ('his', 621), ('be', 581), ('have', 572), ('for', 564), ('your', 554)]\n"
     ]
    }
   ],
   "source": [
    "def main():\n",
    "    from collections import Counter\n",
    "    file = open(\"shakespeare.txt\",\"rt\")\n",
    "    data = file.read().split(\" \")\n",
    "    words = data\n",
    "\n",
    "    Counter = Counter(words)\n",
    "\n",
    "    most_occur_word = Counter.most_common(20)\n",
    "    print(most_occur_word)\n",
    "\n",
    "if __name__ == \"__main__\":\n",
    "    main()"
   ]
  },
  {
   "cell_type": "markdown",
   "metadata": {},
   "source": [
    "## Exercise 7.3"
   ]
  },
  {
   "cell_type": "code",
   "execution_count": 39,
   "metadata": {},
   "outputs": [
    {
     "name": "stdout",
     "output_type": "stream",
     "text": [
      "Unique words are used  12365  times\n"
     ]
    }
   ],
   "source": [
    "def main():\n",
    "    from collections import Counter\n",
    "    file = open(\"shakespeare.txt\",\"rt\")\n",
    "    words = file.read().split(' ')\n",
    "    count = Counter(words)\n",
    "    unique = [w for w in words if count[w] == 1]\n",
    "    counter_unique = len(unique)\n",
    "    print(\"Unique words are used \",counter_unique , \" times\")\n",
    "\n",
    "\n",
    "if __name__ == \"__main__\":\n",
    "    main()"
   ]
  },
  {
   "cell_type": "markdown",
   "metadata": {},
   "source": [
    "## Exercise 7.4"
   ]
  },
  {
   "cell_type": "code",
   "execution_count": 40,
   "metadata": {},
   "outputs": [
    {
     "name": "stdout",
     "output_type": "stream",
     "text": [
      "1840  words used at least 5 times\n"
     ]
    }
   ],
   "source": [
    "def main():\n",
    "    from collections import Counter\n",
    "    file = open(\"shakespeare.txt\",\"rt\")\n",
    "    words = file.read().split(' ')\n",
    "    count = Counter(words)\n",
    "    unique = [w for w in words if count[w] == 5]\n",
    "    counter_unique = len(unique)\n",
    "    print(counter_unique , \" words used at least 5 times\")\n",
    "\n",
    "\n",
    "if __name__ == \"__main__\":\n",
    "    main()"
   ]
  },
  {
   "cell_type": "markdown",
   "metadata": {},
   "source": [
    "## Exercise 7.5"
   ]
  },
  {
   "cell_type": "code",
   "execution_count": 53,
   "metadata": {},
   "outputs": [
    {
     "name": "stdout",
     "output_type": "stream",
     "text": [
      "[('', 39709), ('the', 2111), ('I', 2089), ('and', 1708), ('to', 1586), ('of', 1544), ('a', 1172), ('my', 1159), ('in', 1029), ('you', 947), ('that', 894), ('is', 851), ('not', 729), ('And', 668), ('with', 636), ('his', 621), ('be', 581), ('have', 572), ('for', 564), ('your', 554), ('it', 522), ('me', 519), ('thou', 514), ('thy', 487), ('he', 482), ('this', 432), ('The', 430), ('will', 392), ('but', 388), ('as', 385), ('do', 323), ('so', 318), ('all', 313), ('her', 313), ('That', 312), ('him', 311), ('To', 297), ('shall', 294), ('no', 283), ('by', 280), ('are', 280), ('But', 279), ('what', 253), ('on', 246), ('our', 239), ('from', 238), ('love', 236), ('we', 230), ('thee', 227), ('which', 221), ('was', 221), ('would', 206), ('am', 206), ('good', 206), ('CLEOPATRA.', 205), ('if', 202), ('ANTONY.', 202), ('at', 200), ('ROSALIND.', 200), ('she', 195), ('they', 189), ('more', 186), ('If', 184), ('their', 183), ('or', 180), ('than', 167), ('A', 163), ('He', 162), ('For', 161), ('hath', 159), ('My', 157), ('You', 156), ('make', 156), ('should', 155), ('when', 153), (\"I'll\", 152), ('Enter', 150), ('like', 147), ('O', 147), ('did', 146), ('an', 145), ('upon', 143), ('PAROLLES.', 141), ('must', 139), ('What', 137), ('As', 137), ('When', 132), ('had', 132), ('most', 131), ('can', 130), ('were', 130), ('In', 126), ('you,', 125), (\"th'\", 125), ('mine', 125), ('know', 125), ('FIRST', 122), ('ORLANDO.', 120), ('Of', 119), ('one', 119), ('may', 118), ('say', 118), ('Which', 117), ('such', 116), ('So', 116), ('LORD.', 115), ('ENOBARBUS.', 112), ('doth', 111), ('give', 110), ('HELENA.', 109), ('CELIA.', 109), ('yet', 105), ('well', 104), ('This', 103), ('BERTRAM.', 102), ('own', 101), ('see', 100), ('take', 100), ('SECOND', 100), ('let', 99), ('Thou', 98), ('LAFEU.', 98), ('now', 97), ('them', 96), ('there', 96), ('CAESAR.', 96), ('how', 95), ('With', 94), ('sir,', 94), ('great', 93), ('then', 91), ('Is', 90), ('out', 89), ('It', 89), ('never', 88), ('Let', 88), ('very', 87), ('COUNTESS.', 87), ('KING.', 87), ('some', 86), ('How', 84), ('man', 84), ('much', 83), ('By', 83), ('art', 82), ('too', 81), ('us', 81), ('cannot', 79), ('Or', 79), ('me,', 79), ('think', 78), ('come', 78), (\"'tis\", 77), ('every', 76), ('SOLDIER.', 76), ('these', 74), ('TOUCHSTONE.', 74), ('OF', 73), ('sweet', 73), ('made', 73), ('time', 72), ('O,', 72), ('Then', 71), ('tell', 71), ('His', 70), ('self', 70), (\"'Tis\", 70), ('better', 69), ('Your', 68), ('heart', 68), ('where', 67), ('nor', 67), ('here', 67), ('go', 67), ('being', 66), ('fair', 66), ('Not', 66), ('CLOWN.', 66), ('any', 65), ('the\\n', 65), ('could', 65), ('speak', 65), ('Thy', 64), ('ever', 64), ('you.\\n', 64), ('might', 63), ('CHARMIAN.', 63), ('world', 62), ('OR', 61), ('old', 61), ('We', 61), ('SCENE', 61), ('other', 60), ('poor', 60), ('FOR', 58), ('into', 58), ('eyes', 58), ('thee,', 58), ('hear', 58), ('thine', 57)]\n"
     ]
    },
    {
     "ename": "TypeError",
     "evalue": "write() argument must be str, not tuple",
     "output_type": "error",
     "traceback": [
      "\u001b[1;31m---------------------------------------------------------------------------\u001b[0m",
      "\u001b[1;31mTypeError\u001b[0m                                 Traceback (most recent call last)",
      "\u001b[1;32md:\\1 UNIVERSITY CLASSES\\2022-2023 Spring Classes\\Scientific Programming\\Doc\\HW3\\ErdoganRecepTayyip_E3.ipynb Cell 12'\u001b[0m in \u001b[0;36m<cell line: 22>\u001b[1;34m()\u001b[0m\n\u001b[0;32m     <a href='vscode-notebook-cell:/d%3A/1%20UNIVERSITY%20CLASSES/2022-2023%20Spring%20Classes/Scientific%20Programming/Doc/HW3/ErdoganRecepTayyip_E3.ipynb#ch0000014?line=19'>20</a>\u001b[0m     f\u001b[39m.\u001b[39mclose()\n\u001b[0;32m     <a href='vscode-notebook-cell:/d%3A/1%20UNIVERSITY%20CLASSES/2022-2023%20Spring%20Classes/Scientific%20Programming/Doc/HW3/ErdoganRecepTayyip_E3.ipynb#ch0000014?line=21'>22</a>\u001b[0m \u001b[39mif\u001b[39;00m \u001b[39m__name__\u001b[39m \u001b[39m==\u001b[39m \u001b[39m\"\u001b[39m\u001b[39m__main__\u001b[39m\u001b[39m\"\u001b[39m:\n\u001b[1;32m---> <a href='vscode-notebook-cell:/d%3A/1%20UNIVERSITY%20CLASSES/2022-2023%20Spring%20Classes/Scientific%20Programming/Doc/HW3/ErdoganRecepTayyip_E3.ipynb#ch0000014?line=22'>23</a>\u001b[0m     main()\n",
      "\u001b[1;32md:\\1 UNIVERSITY CLASSES\\2022-2023 Spring Classes\\Scientific Programming\\Doc\\HW3\\ErdoganRecepTayyip_E3.ipynb Cell 12'\u001b[0m in \u001b[0;36mmain\u001b[1;34m()\u001b[0m\n\u001b[0;32m     <a href='vscode-notebook-cell:/d%3A/1%20UNIVERSITY%20CLASSES/2022-2023%20Spring%20Classes/Scientific%20Programming/Doc/HW3/ErdoganRecepTayyip_E3.ipynb#ch0000014?line=13'>14</a>\u001b[0m \u001b[39mfor\u001b[39;00m i \u001b[39min\u001b[39;00m \u001b[39mrange\u001b[39m(elements):\n\u001b[0;32m     <a href='vscode-notebook-cell:/d%3A/1%20UNIVERSITY%20CLASSES/2022-2023%20Spring%20Classes/Scientific%20Programming/Doc/HW3/ErdoganRecepTayyip_E3.ipynb#ch0000014?line=14'>15</a>\u001b[0m     f \u001b[39m=\u001b[39m \u001b[39mopen\u001b[39m(\u001b[39m\"\u001b[39m\u001b[39mwritefile.txt\u001b[39m\u001b[39m\"\u001b[39m,\u001b[39m\"\u001b[39m\u001b[39ma\u001b[39m\u001b[39m\"\u001b[39m)\n\u001b[1;32m---> <a href='vscode-notebook-cell:/d%3A/1%20UNIVERSITY%20CLASSES/2022-2023%20Spring%20Classes/Scientific%20Programming/Doc/HW3/ErdoganRecepTayyip_E3.ipynb#ch0000014?line=15'>16</a>\u001b[0m     f \u001b[39m=\u001b[39m f\u001b[39m.\u001b[39;49mwrite(list_of_words[i])\n\u001b[0;32m     <a href='vscode-notebook-cell:/d%3A/1%20UNIVERSITY%20CLASSES/2022-2023%20Spring%20Classes/Scientific%20Programming/Doc/HW3/ErdoganRecepTayyip_E3.ipynb#ch0000014?line=17'>18</a>\u001b[0m f \u001b[39m=\u001b[39m \u001b[39mopen\u001b[39m(\u001b[39m\"\u001b[39m\u001b[39mwritefile.txt\u001b[39m\u001b[39m\"\u001b[39m,\u001b[39m\"\u001b[39m\u001b[39mr\u001b[39m\u001b[39m\"\u001b[39m)\n\u001b[0;32m     <a href='vscode-notebook-cell:/d%3A/1%20UNIVERSITY%20CLASSES/2022-2023%20Spring%20Classes/Scientific%20Programming/Doc/HW3/ErdoganRecepTayyip_E3.ipynb#ch0000014?line=18'>19</a>\u001b[0m \u001b[39mprint\u001b[39m(f\u001b[39m.\u001b[39mread())\n",
      "\u001b[1;31mTypeError\u001b[0m: write() argument must be str, not tuple"
     ]
    }
   ],
   "source": [
    "def main():\n",
    "    from collections import Counter\n",
    "    file = open(\"shakespeare.txt\",\"rt\")\n",
    "    data = file.read().split(\" \")\n",
    "    words = data\n",
    "\n",
    "    Counter = Counter(words)\n",
    "\n",
    "    most_occur_word = Counter.most_common(200)\n",
    "    elements = len(most_occur_word[0])\n",
    "    elements_of_words = most_occur_word\n",
    "    list_of_words = list(elements_of_words)\n",
    "    print(list_of_words)\n",
    "    for i in range(elements):\n",
    "        f = open(\"writefile.txt\",\"a\")\n",
    "        f = f.write(list_of_words[i])\n",
    "    \n",
    "    f = open(\"writefile.txt\",\"r\")\n",
    "    print(f.read())\n",
    "    f.close()\n",
    "\n",
    "if __name__ == \"__main__\":\n",
    "    main()"
   ]
  }
 ],
 "metadata": {
  "interpreter": {
   "hash": "e71892cb58c453dd2f6160f8eff3a7cf48f9ad5c332c4004f423ec4819d2b980"
  },
  "kernelspec": {
   "display_name": "Python 3.10.3 64-bit",
   "language": "python",
   "name": "python3"
  },
  "language_info": {
   "codemirror_mode": {
    "name": "ipython",
    "version": 3
   },
   "file_extension": ".py",
   "mimetype": "text/x-python",
   "name": "python",
   "nbconvert_exporter": "python",
   "pygments_lexer": "ipython3",
   "version": "3.10.3"
  },
  "orig_nbformat": 4
 },
 "nbformat": 4,
 "nbformat_minor": 2
}
